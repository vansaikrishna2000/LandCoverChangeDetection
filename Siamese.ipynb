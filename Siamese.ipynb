{
  "nbformat": 4,
  "nbformat_minor": 0,
  "metadata": {
    "colab": {
      "name": "Siamese.ipynb",
      "provenance": [],
      "collapsed_sections": []
    },
    "kernelspec": {
      "display_name": "Python 3",
      "language": "python",
      "name": "python3"
    },
    "language_info": {
      "codemirror_mode": {
        "name": "ipython",
        "version": 3
      },
      "file_extension": ".py",
      "mimetype": "text/x-python",
      "name": "python",
      "nbconvert_exporter": "python",
      "pygments_lexer": "ipython3",
      "version": "3.8.5"
    },
    "accelerator": "GPU"
  },
  "cells": [
    {
      "cell_type": "code",
      "metadata": {
        "colab": {
          "base_uri": "https://localhost:8080/"
        },
        "id": "nLX8kcfmnjj3",
        "outputId": "c8b2b6a7-48c7-4f72-9824-474f8aefe360"
      },
      "source": [
        "from google.colab import drive\n",
        "drive.mount('/content/drive',force_remount=True)"
      ],
      "execution_count": null,
      "outputs": [
        {
          "output_type": "stream",
          "text": [
            "Mounted at /content/drive\n"
          ],
          "name": "stdout"
        }
      ]
    },
    {
      "cell_type": "code",
      "metadata": {
        "colab": {
          "base_uri": "https://localhost:8080/"
        },
        "id": "TOmVmuMnSr1L",
        "outputId": "df5cdff0-7ff0-428e-e3ca-a7ac7aaae046"
      },
      "source": [
        "!pip install keras\n",
        "!pip install rasterio"
      ],
      "execution_count": null,
      "outputs": [
        {
          "output_type": "stream",
          "text": [
            "Requirement already satisfied: keras in /usr/local/lib/python3.7/dist-packages (2.4.3)\n",
            "Requirement already satisfied: pyyaml in /usr/local/lib/python3.7/dist-packages (from keras) (3.13)\n",
            "Requirement already satisfied: scipy>=0.14 in /usr/local/lib/python3.7/dist-packages (from keras) (1.4.1)\n",
            "Requirement already satisfied: h5py in /usr/local/lib/python3.7/dist-packages (from keras) (3.1.0)\n",
            "Requirement already satisfied: numpy>=1.9.1 in /usr/local/lib/python3.7/dist-packages (from keras) (1.19.5)\n",
            "Requirement already satisfied: cached-property in /usr/local/lib/python3.7/dist-packages (from h5py->keras) (1.5.2)\n",
            "Collecting rasterio\n",
            "  Downloading rasterio-1.2.6-cp37-cp37m-manylinux1_x86_64.whl (19.3 MB)\n",
            "\u001b[K     |████████████████████████████████| 19.3 MB 7.3 MB/s \n",
            "\u001b[?25hCollecting affine\n",
            "  Downloading affine-2.3.0-py2.py3-none-any.whl (15 kB)\n",
            "Collecting cligj>=0.5\n",
            "  Downloading cligj-0.7.2-py3-none-any.whl (7.1 kB)\n",
            "Requirement already satisfied: click>=4.0 in /usr/local/lib/python3.7/dist-packages (from rasterio) (7.1.2)\n",
            "Requirement already satisfied: numpy in /usr/local/lib/python3.7/dist-packages (from rasterio) (1.19.5)\n",
            "Collecting snuggs>=1.4.1\n",
            "  Downloading snuggs-1.4.7-py3-none-any.whl (5.4 kB)\n",
            "Requirement already satisfied: setuptools in /usr/local/lib/python3.7/dist-packages (from rasterio) (57.2.0)\n",
            "Requirement already satisfied: attrs in /usr/local/lib/python3.7/dist-packages (from rasterio) (21.2.0)\n",
            "Requirement already satisfied: certifi in /usr/local/lib/python3.7/dist-packages (from rasterio) (2021.5.30)\n",
            "Collecting click-plugins\n",
            "  Downloading click_plugins-1.1.1-py2.py3-none-any.whl (7.5 kB)\n",
            "Requirement already satisfied: pyparsing>=2.1.6 in /usr/local/lib/python3.7/dist-packages (from snuggs>=1.4.1->rasterio) (2.4.7)\n",
            "Installing collected packages: snuggs, cligj, click-plugins, affine, rasterio\n",
            "Successfully installed affine-2.3.0 click-plugins-1.1.1 cligj-0.7.2 rasterio-1.2.6 snuggs-1.4.7\n"
          ],
          "name": "stdout"
        }
      ]
    },
    {
      "cell_type": "code",
      "metadata": {
        "id": "J0rl5AlgVLRA"
      },
      "source": [
        "from tensorflow.keras.utils import to_categorical\n",
        "import numpy as np\n",
        "import os\n",
        "from keras.models import *\n",
        "from keras.layers import *\n",
        "from keras.optimizers import *\n",
        "from keras.losses import *\n",
        "from keras.callbacks import ModelCheckpoint, Callback\n",
        "import PIL\n",
        "import warnings\n",
        "import cv2\n",
        "import matplotlib.pyplot as plt\n",
        "from keras.preprocessing.image import ImageDataGenerator\n",
        "from keras import backend as K\n",
        "import rasterio\n",
        "import glob\n",
        "import sklearn\n",
        "import tensorflow as tf\n",
        "import keras"
      ],
      "execution_count": null,
      "outputs": []
    },
    {
      "cell_type": "code",
      "metadata": {
        "id": "O8P8H6-vRqKa"
      },
      "source": [
        "from keras import backend as K\n",
        "def wcceloss(y_true, y_pred):\n",
        "\n",
        "    weights = np.array([0.5,2.5])\n",
        "    weights = K.constant(weights)\n",
        "    y_pred /= K.sum(y_pred, axis=-1, keepdims=True)\n",
        "    y_pred = K.clip(y_pred, K.epsilon(), 1 - K.epsilon())\n",
        "    loss = y_true * K.log(y_pred) * weights\n",
        "    loss = 1-K.sum(loss,axis= -1)\n",
        "    #print(loss.shape)\n",
        "\n",
        "    return loss\n",
        "\n",
        "color_dict = {0: (0),\n",
        "              1: (255),\n",
        "              }\n",
        "\n",
        "def rgb_to_onehot(rgb_arr, color_dict):\n",
        "    num_classes = len(color_dict)\n",
        "    shape = rgb_arr.shape[:2]+(num_classes,)\n",
        "    arr = np.zeros( shape, dtype=np.float32 )\n",
        "    for i, cls in enumerate(color_dict):\n",
        "        arr[:,:,i] = np.all(rgb_arr.reshape( (-1,1) ) == color_dict[i], axis=1).reshape(shape[:2])\n",
        "    return arr\n",
        "\n",
        "def onehot_to_rgb(onehot, color_dict):\n",
        "    single_layer = np.argmax(onehot, axis=-1)\n",
        "    output = np.zeros( onehot.shape[:2]+(3,) )\n",
        "    for k in color_dict.keys():\n",
        "        output[single_layer==k] = color_dict[k]\n",
        "    return output\n",
        "\n",
        "def adjustData(img1, img2, mask):\n",
        "  onehot=rgb_to_onehot(mask[0],color_dict)\n",
        "  onehot=np.reshape(onehot,((1,)+onehot.shape))\n",
        "  img1 = img1/255\n",
        "  img2 = img2/255\n",
        "  #print(img1.shape,img2.shape,onehot.shape)\n",
        "  return(img1, img2, onehot)\n",
        "  \n",
        "\n",
        "\n",
        "def TrainGenerator(aug_dict, train_path, image1_folder, image2_folder, mask_folder, batch_size, save_to_dir, seed = 1, \n",
        "                   image1_save_prefix = \"image1\", image2_save_prefix = \"image2\", mask_save_prefix = \"mask\"):\n",
        "  image1_datagen = ImageDataGenerator(**aug_dict)\n",
        "  image2_datagen = ImageDataGenerator(**aug_dict)\n",
        "  mask_datagen = ImageDataGenerator(**aug_dict)\n",
        "  #print(os.getcwd())\n",
        "  \n",
        "  image1_generator = image1_datagen.flow_from_directory(\n",
        "       directory = '/content/drive/MyDrive/Levir-CD/train/A',\n",
        "       target_size = (512, 512),\n",
        "       color_mode = 'rgb',\n",
        "       class_mode = None,\n",
        "       batch_size = batch_size,\n",
        "       save_to_dir = save_to_dir,\n",
        "       save_prefix = image1_save_prefix,\n",
        "       shuffle = True,\n",
        "       seed = seed\n",
        "  )\n",
        "  image2_generator = image2_datagen.flow_from_directory(\n",
        "      directory = '/content/drive/MyDrive/Levir-CD/train/B',\n",
        "      target_size = (512, 512),\n",
        "       color_mode = 'rgb',\n",
        "       class_mode = None,\n",
        "       batch_size = batch_size,\n",
        "       save_to_dir = save_to_dir,\n",
        "       save_prefix = image2_save_prefix,\n",
        "       shuffle = True,\n",
        "       seed = seed\n",
        "  )\n",
        "  mask_generator = mask_datagen.flow_from_directory(\n",
        "      directory = '/content/drive/MyDrive/Levir-CD/train/label',\n",
        "      target_size = (512, 512),\n",
        "       color_mode = 'grayscale',\n",
        "       class_mode = None,\n",
        "       batch_size = batch_size,\n",
        "       save_to_dir = save_to_dir,\n",
        "       save_prefix = mask_save_prefix,\n",
        "       shuffle = True,\n",
        "       seed = seed\n",
        "  )\n",
        "  train_generator = zip(image1_generator, image2_generator, mask_generator)\n",
        "  for (img1, img2, mask) in train_generator:\n",
        "        img1, img2, mask = adjustData(img1, img2, mask)\n",
        "        yield [img1, img2], mask\n",
        "\n",
        "def ValGenerator(aug_dict, train_path, image1_folder, image2_folder, mask_folder, batch_size, save_to_dir, seed = 1, \n",
        "                   image1_save_prefix = \"image1\", image2_save_prefix = \"image2\", mask_save_prefix = \"mask\"):\n",
        "  image1_datagen = ImageDataGenerator(**aug_dict)\n",
        "  image2_datagen = ImageDataGenerator(**aug_dict)\n",
        "  mask_datagen = ImageDataGenerator(**aug_dict)\n",
        "  #print(os.getcwd())\n",
        "  \n",
        "  image1_generator = image1_datagen.flow_from_directory(\n",
        "       directory = '/content/drive/MyDrive/Levir-CD/val/A',\n",
        "       target_size = (512, 512),\n",
        "       color_mode = 'rgb',\n",
        "       class_mode = None,\n",
        "       batch_size = batch_size,\n",
        "       save_to_dir = save_to_dir,\n",
        "       save_prefix = image1_save_prefix,\n",
        "       shuffle = True,\n",
        "       seed = seed\n",
        "  )\n",
        "  image2_generator = image2_datagen.flow_from_directory(\n",
        "      directory = '/content/drive/MyDrive/Levir-CD/val/B',\n",
        "      target_size = (512, 512),\n",
        "       color_mode = 'rgb',\n",
        "       class_mode = None,\n",
        "       batch_size = batch_size,\n",
        "       save_to_dir = save_to_dir,\n",
        "       save_prefix = image2_save_prefix,\n",
        "       shuffle = True,\n",
        "       seed = seed\n",
        "  )\n",
        "  mask_generator = mask_datagen.flow_from_directory(\n",
        "      directory = '/content/drive/MyDrive/Levir-CD/val/label',\n",
        "      target_size = (512, 512),\n",
        "       color_mode = 'grayscale',\n",
        "       class_mode = None,\n",
        "       batch_size = batch_size,\n",
        "       save_to_dir = save_to_dir,\n",
        "       save_prefix = mask_save_prefix,\n",
        "       shuffle = True,\n",
        "       seed = seed\n",
        "  )\n",
        "  train_generator = zip(image1_generator, image2_generator, mask_generator)\n",
        "  for (img1, img2, mask) in train_generator:\n",
        "        img1, img2, mask = adjustData(img1, img2, mask)\n",
        "        yield [img1, img2], mask\n",
        "  \n",
        "  "
      ],
      "execution_count": null,
      "outputs": []
    },
    {
      "cell_type": "markdown",
      "metadata": {
        "id": "ED0uHy4o_wcB"
      },
      "source": [
        "Finding Difficulty in creating model(don't know how to concatenate the output of base model) and also how to send the input images as pair wise to the model (tired to send the inputs as pair wise but got some broadcast error)"
      ]
    },
    {
      "cell_type": "code",
      "metadata": {
        "colab": {
          "base_uri": "https://localhost:8080/"
        },
        "id": "j0LG8wsuVhGr",
        "outputId": "3a2d3b94-95ac-4aaf-a425-f28c88c79e66"
      },
      "source": [
        "from keras.layers import *\n",
        "\n",
        "\n",
        "def Siamese(input_shape = (512,512,3)):\n",
        "    input_1=Input(input_shape)\n",
        "    conv1 = Conv2D(64, 3, activation = 'relu', padding = 'same', kernel_initializer = 'random_normal')(input_1)\n",
        "    conv2 = Conv2D(64, 3, activation = 'relu', padding = 'same', kernel_initializer = 'random_normal')(conv1)\n",
        "    conv3 = Conv2D(64, 5, activation = 'relu', padding = 'same', kernel_initializer = 'random_normal')(conv2)\n",
        "    conv4 = Conv2D(32, 5, activation = 'relu', padding = 'same', kernel_initializer = 'random_normal')(conv3)\n",
        "    conv5 = Conv2D(16, 1, activation = 'sigmoid', padding = 'same', kernel_initializer = 'random_normal')(conv4)\n",
        "    #conv5 = Dropout(0.2)(conv5)\n",
        "\n",
        "    input_2=Input(input_shape)\n",
        "    conv_1 = Conv2D(64, 3, activation = 'relu', padding = 'same', kernel_initializer = 'random_normal')(input_2)\n",
        "    conv_2 = Conv2D(64, 3, activation = 'relu', padding = 'same', kernel_initializer = 'random_normal')(conv_1)\n",
        "    conv_3 = Conv2D(64, 5, activation = 'relu', padding = 'same', kernel_initializer = 'random_normal')(conv_2)\n",
        "    conv_4 = Conv2D(32, 5, activation = 'relu', padding = 'same', kernel_initializer = 'random_normal')(conv_3)\n",
        "    conv_5 = Conv2D(16, 1, activation = 'sigmoid', padding = 'same', kernel_initializer = 'random_normal')(conv_4)\n",
        "    #conv_5 = Dropout(0.2)(conv_5)\n",
        "    \n",
        "    L1_layer = Lambda(lambda tensors:K.abs(tensors[0] - tensors[1]))\n",
        "    out  = L1_layer([conv5, conv_5])\n",
        "    out = Dropout(0.25)(out)\n",
        "    out = Dense(2,activation='softmax')(out)\n",
        "    model = Model(inputs=[input_1,input_2],outputs= out)\n",
        "    return model\n",
        "model = Siamese()\n",
        "model.summary()"
      ],
      "execution_count": null,
      "outputs": [
        {
          "output_type": "stream",
          "text": [
            "Model: \"model\"\n",
            "__________________________________________________________________________________________________\n",
            "Layer (type)                    Output Shape         Param #     Connected to                     \n",
            "==================================================================================================\n",
            "input_1 (InputLayer)            [(None, 512, 512, 3) 0                                            \n",
            "__________________________________________________________________________________________________\n",
            "input_2 (InputLayer)            [(None, 512, 512, 3) 0                                            \n",
            "__________________________________________________________________________________________________\n",
            "conv2d (Conv2D)                 (None, 512, 512, 64) 1792        input_1[0][0]                    \n",
            "__________________________________________________________________________________________________\n",
            "conv2d_5 (Conv2D)               (None, 512, 512, 64) 1792        input_2[0][0]                    \n",
            "__________________________________________________________________________________________________\n",
            "conv2d_1 (Conv2D)               (None, 512, 512, 64) 36928       conv2d[0][0]                     \n",
            "__________________________________________________________________________________________________\n",
            "conv2d_6 (Conv2D)               (None, 512, 512, 64) 36928       conv2d_5[0][0]                   \n",
            "__________________________________________________________________________________________________\n",
            "conv2d_2 (Conv2D)               (None, 512, 512, 64) 102464      conv2d_1[0][0]                   \n",
            "__________________________________________________________________________________________________\n",
            "conv2d_7 (Conv2D)               (None, 512, 512, 64) 102464      conv2d_6[0][0]                   \n",
            "__________________________________________________________________________________________________\n",
            "conv2d_3 (Conv2D)               (None, 512, 512, 32) 51232       conv2d_2[0][0]                   \n",
            "__________________________________________________________________________________________________\n",
            "conv2d_8 (Conv2D)               (None, 512, 512, 32) 51232       conv2d_7[0][0]                   \n",
            "__________________________________________________________________________________________________\n",
            "conv2d_4 (Conv2D)               (None, 512, 512, 16) 528         conv2d_3[0][0]                   \n",
            "__________________________________________________________________________________________________\n",
            "conv2d_9 (Conv2D)               (None, 512, 512, 16) 528         conv2d_8[0][0]                   \n",
            "__________________________________________________________________________________________________\n",
            "lambda (Lambda)                 (None, 512, 512, 16) 0           conv2d_4[0][0]                   \n",
            "                                                                 conv2d_9[0][0]                   \n",
            "__________________________________________________________________________________________________\n",
            "dropout (Dropout)               (None, 512, 512, 16) 0           lambda[0][0]                     \n",
            "__________________________________________________________________________________________________\n",
            "dense (Dense)                   (None, 512, 512, 2)  34          dropout[0][0]                    \n",
            "==================================================================================================\n",
            "Total params: 385,922\n",
            "Trainable params: 385,922\n",
            "Non-trainable params: 0\n",
            "__________________________________________________________________________________________________\n"
          ],
          "name": "stdout"
        }
      ]
    },
    {
      "cell_type": "code",
      "metadata": {
        "id": "MImTarfiSiUD"
      },
      "source": [
        "path_of_training = '/content/drive/MyDrive/Levir-CD/train'\n",
        "path_of_val = '/content/drive/MyDrive/Levir-CD/val'\n",
        "data_gen_args = dict()\n",
        "Train = TrainGenerator(aug_dict=data_gen_args, train_path=path_of_training, image1_folder ='A', image2_folder='B', mask_folder='label', batch_size=1, save_to_dir= None)\n",
        "Val = ValGenerator(aug_dict=data_gen_args, train_path=path_of_val, image1_folder ='A', image2_folder='B', mask_folder='label', batch_size=1, save_to_dir= None) "
      ],
      "execution_count": null,
      "outputs": []
    },
    {
      "cell_type": "code",
      "metadata": {
        "colab": {
          "base_uri": "https://localhost:8080/"
        },
        "id": "jxHEDABjV2py",
        "outputId": "828265d9-84ca-4979-8329-8f9b1872bad5"
      },
      "source": [
        "from keras.callbacks import EarlyStopping\n",
        "from keras.callbacks import ModelCheckpoint\n",
        "\n",
        "model.compile(optimizer = Adam(learning_rate = 0.0001), loss=\"binary_crossentropy\" , metrics = ['accuracy'])\n",
        "es = EarlyStopping(monitor='val_loss', mode='min', verbose=1, patience=10)\n",
        "mc = ModelCheckpoint('best_model.h5', monitor='val_accuracy', mode='max', verbose=1, save_best_only=True)\n",
        "history = model.fit(Train,validation_data = Val,validation_steps=128,steps_per_epoch=512,epochs=30,callbacks=[es,mc])\n",
        "model.save(\"/content/\")"
      ],
      "execution_count": null,
      "outputs": [
        {
          "output_type": "stream",
          "text": [
            "Found 445 images belonging to 1 classes.\n",
            "Found 445 images belonging to 1 classes.\n",
            "Found 445 images belonging to 1 classes.\n",
            "Epoch 1/30\n",
            "512/512 [==============================] - ETA: 0s - loss: 0.5294 - accuracy: 0.9216Found 64 images belonging to 1 classes.\n",
            "Found 64 images belonging to 1 classes.\n",
            "Found 64 images belonging to 1 classes.\n",
            "512/512 [==============================] - 142s 240ms/step - loss: 0.5293 - accuracy: 0.9216 - val_loss: 0.3653 - val_accuracy: 0.9580\n",
            "\n",
            "Epoch 00001: val_accuracy improved from -inf to 0.95803, saving model to best_model.h5\n",
            "Epoch 2/30\n",
            "512/512 [==============================] - 123s 240ms/step - loss: 0.3639 - accuracy: 0.9521 - val_loss: 0.2728 - val_accuracy: 0.9580\n",
            "\n",
            "Epoch 00002: val_accuracy did not improve from 0.95803\n",
            "Epoch 3/30\n",
            "512/512 [==============================] - 122s 238ms/step - loss: 0.2908 - accuracy: 0.9536 - val_loss: 0.2297 - val_accuracy: 0.9578\n",
            "\n",
            "Epoch 00003: val_accuracy did not improve from 0.95803\n",
            "Epoch 4/30\n",
            "512/512 [==============================] - 123s 240ms/step - loss: 0.2574 - accuracy: 0.9512 - val_loss: 0.1967 - val_accuracy: 0.9586\n",
            "\n",
            "Epoch 00004: val_accuracy improved from 0.95803 to 0.95863, saving model to best_model.h5\n",
            "Epoch 5/30\n",
            "512/512 [==============================] - 124s 241ms/step - loss: 0.2257 - accuracy: 0.9517 - val_loss: 0.1789 - val_accuracy: 0.9576\n",
            "\n",
            "Epoch 00005: val_accuracy did not improve from 0.95863\n",
            "Epoch 6/30\n",
            "512/512 [==============================] - 123s 240ms/step - loss: 0.1908 - accuracy: 0.9589 - val_loss: 0.1691 - val_accuracy: 0.9588\n",
            "\n",
            "Epoch 00006: val_accuracy improved from 0.95863 to 0.95881, saving model to best_model.h5\n",
            "Epoch 7/30\n",
            "512/512 [==============================] - 123s 241ms/step - loss: 0.1911 - accuracy: 0.9554 - val_loss: 0.1607 - val_accuracy: 0.9575\n",
            "\n",
            "Epoch 00007: val_accuracy did not improve from 0.95881\n",
            "Epoch 8/30\n",
            "512/512 [==============================] - 123s 241ms/step - loss: 0.1881 - accuracy: 0.9523 - val_loss: 0.1491 - val_accuracy: 0.9561\n",
            "\n",
            "Epoch 00008: val_accuracy did not improve from 0.95881\n",
            "Epoch 9/30\n",
            "512/512 [==============================] - 122s 239ms/step - loss: 0.1741 - accuracy: 0.9523 - val_loss: 0.1332 - val_accuracy: 0.9593\n",
            "\n",
            "Epoch 00009: val_accuracy improved from 0.95881 to 0.95929, saving model to best_model.h5\n",
            "Epoch 10/30\n",
            "512/512 [==============================] - 123s 240ms/step - loss: 0.1533 - accuracy: 0.9578 - val_loss: 0.1324 - val_accuracy: 0.9577\n",
            "\n",
            "Epoch 00010: val_accuracy did not improve from 0.95929\n",
            "Epoch 11/30\n",
            "512/512 [==============================] - 123s 241ms/step - loss: 0.1525 - accuracy: 0.9553 - val_loss: 0.1258 - val_accuracy: 0.9579\n",
            "\n",
            "Epoch 00011: val_accuracy did not improve from 0.95929\n",
            "Epoch 12/30\n",
            "512/512 [==============================] - 123s 240ms/step - loss: 0.1517 - accuracy: 0.9504 - val_loss: 0.1309 - val_accuracy: 0.9593\n",
            "\n",
            "Epoch 00012: val_accuracy improved from 0.95929 to 0.95932, saving model to best_model.h5\n",
            "Epoch 13/30\n",
            "512/512 [==============================] - 123s 241ms/step - loss: 0.1419 - accuracy: 0.9540 - val_loss: 0.1182 - val_accuracy: 0.9575\n",
            "\n",
            "Epoch 00013: val_accuracy did not improve from 0.95932\n",
            "Epoch 14/30\n",
            "512/512 [==============================] - 123s 241ms/step - loss: 0.1300 - accuracy: 0.9555 - val_loss: 0.1170 - val_accuracy: 0.9572\n",
            "\n",
            "Epoch 00014: val_accuracy did not improve from 0.95932\n",
            "Epoch 15/30\n",
            "512/512 [==============================] - 123s 241ms/step - loss: 0.1294 - accuracy: 0.9537 - val_loss: 0.1044 - val_accuracy: 0.9601\n",
            "\n",
            "Epoch 00015: val_accuracy improved from 0.95932 to 0.96011, saving model to best_model.h5\n",
            "Epoch 16/30\n",
            "512/512 [==============================] - 123s 240ms/step - loss: 0.1260 - accuracy: 0.9530 - val_loss: 0.1076 - val_accuracy: 0.9578\n",
            "\n",
            "Epoch 00016: val_accuracy did not improve from 0.96011\n",
            "Epoch 17/30\n",
            "512/512 [==============================] - 123s 241ms/step - loss: 0.1185 - accuracy: 0.9556 - val_loss: 0.1078 - val_accuracy: 0.9587\n",
            "\n",
            "Epoch 00017: val_accuracy did not improve from 0.96011\n",
            "Epoch 18/30\n",
            "512/512 [==============================] - 123s 239ms/step - loss: 0.1253 - accuracy: 0.9508 - val_loss: 0.0987 - val_accuracy: 0.9584\n",
            "\n",
            "Epoch 00018: val_accuracy did not improve from 0.96011\n",
            "Epoch 19/30\n",
            "512/512 [==============================] - 123s 240ms/step - loss: 0.1062 - accuracy: 0.9603 - val_loss: 0.0989 - val_accuracy: 0.9583\n",
            "\n",
            "Epoch 00019: val_accuracy did not improve from 0.96011\n",
            "Epoch 20/30\n",
            "512/512 [==============================] - 122s 239ms/step - loss: 0.1131 - accuracy: 0.9554 - val_loss: 0.0968 - val_accuracy: 0.9586\n",
            "\n",
            "Epoch 00020: val_accuracy did not improve from 0.96011\n",
            "Epoch 21/30\n",
            "512/512 [==============================] - 122s 239ms/step - loss: 0.1178 - accuracy: 0.9528 - val_loss: 0.0983 - val_accuracy: 0.9581\n",
            "\n",
            "Epoch 00021: val_accuracy did not improve from 0.96011\n",
            "Epoch 22/30\n",
            "512/512 [==============================] - 122s 239ms/step - loss: 0.1102 - accuracy: 0.9554 - val_loss: 0.0998 - val_accuracy: 0.9594\n",
            "\n",
            "Epoch 00022: val_accuracy did not improve from 0.96011\n",
            "Epoch 23/30\n",
            "512/512 [==============================] - 122s 239ms/step - loss: 0.1031 - accuracy: 0.9599 - val_loss: 0.0945 - val_accuracy: 0.9599\n",
            "\n",
            "Epoch 00023: val_accuracy did not improve from 0.96011\n",
            "Epoch 24/30\n",
            "512/512 [==============================] - 122s 239ms/step - loss: 0.1115 - accuracy: 0.9548 - val_loss: 0.0897 - val_accuracy: 0.9621\n",
            "\n",
            "Epoch 00024: val_accuracy improved from 0.96011 to 0.96212, saving model to best_model.h5\n",
            "Epoch 25/30\n",
            "512/512 [==============================] - 123s 240ms/step - loss: 0.0992 - accuracy: 0.9603 - val_loss: 0.0994 - val_accuracy: 0.9593\n",
            "\n",
            "Epoch 00025: val_accuracy did not improve from 0.96212\n",
            "Epoch 26/30\n",
            "512/512 [==============================] - 122s 239ms/step - loss: 0.1073 - accuracy: 0.9570 - val_loss: 0.0910 - val_accuracy: 0.9610\n",
            "\n",
            "Epoch 00026: val_accuracy did not improve from 0.96212\n",
            "Epoch 27/30\n",
            "512/512 [==============================] - 123s 241ms/step - loss: 0.1070 - accuracy: 0.9569 - val_loss: 0.0977 - val_accuracy: 0.9589\n",
            "\n",
            "Epoch 00027: val_accuracy did not improve from 0.96212\n",
            "Epoch 28/30\n",
            "512/512 [==============================] - 124s 242ms/step - loss: 0.1006 - accuracy: 0.9588 - val_loss: 0.0868 - val_accuracy: 0.9641\n",
            "\n",
            "Epoch 00028: val_accuracy improved from 0.96212 to 0.96411, saving model to best_model.h5\n",
            "Epoch 29/30\n",
            "512/512 [==============================] - 123s 240ms/step - loss: 0.0991 - accuracy: 0.9604 - val_loss: 0.0892 - val_accuracy: 0.9623\n",
            "\n",
            "Epoch 00029: val_accuracy did not improve from 0.96411\n",
            "Epoch 30/30\n",
            "512/512 [==============================] - 122s 239ms/step - loss: 0.0935 - accuracy: 0.9619 - val_loss: 0.0823 - val_accuracy: 0.9657\n",
            "\n",
            "Epoch 00030: val_accuracy improved from 0.96411 to 0.96568, saving model to best_model.h5\n",
            "INFO:tensorflow:Assets written to: /content/assets\n"
          ],
          "name": "stdout"
        }
      ]
    },
    {
      "cell_type": "code",
      "metadata": {
        "colab": {
          "base_uri": "https://localhost:8080/",
          "height": 573
        },
        "id": "lFY3CgMc0Zpi",
        "outputId": "852d9961-39f5-4d86-d95f-42db7ce3edb0"
      },
      "source": [
        "plt.plot(history.history['accuracy'])\n",
        "plt.plot(history.history['val_accuracy'])\n",
        "plt.title('model accuracy')\n",
        "plt.ylabel('accuracy')\n",
        "plt.xlabel('epoch')\n",
        "plt.legend(['train', 'val'], loc='upper left')\n",
        "plt.show()\n",
        "\n",
        "plt.plot(history.history['loss'])\n",
        "plt.plot(history.history['val_loss'])\n",
        "plt.title('model loss')\n",
        "plt.ylabel('loss')\n",
        "plt.xlabel('epoch')\n",
        "plt.legend(['train', 'val'], loc='upper left')\n",
        "plt.show()"
      ],
      "execution_count": null,
      "outputs": [
        {
          "output_type": "display_data",
          "data": {
            "image/png": "[encoded data removed]",
            "text/plain": [
              "<Figure size 432x288 with 1 Axes>"
            ]
          },
          "metadata": {
            "tags": [],
            "needs_background": "light"
          }
        },
        {
          "output_type": "display_data",
          "data": {
            "image/png": "[encoded data removed]",
            "text/plain": [
              "<Figure size 432x288 with 1 Axes>"
            ]
          },
          "metadata": {
            "tags": [],
            "needs_background": "light"
          }
        }
      ]
    },
    {
      "cell_type": "code",
      "metadata": {
        "colab": {
          "base_uri": "https://localhost:8080/"
        },
        "id": "F-Uf5l_tPb4K",
        "outputId": "4560d7d4-333f-4c7f-da69-8d52e492fbb9"
      },
      "source": [
        "model = load_model('/content/best_model.h5')\n",
        "model.load_weights('/content/best_model.h5')\n",
        "t = next(Val)\n",
        "x_val = t[0]\n",
        "y_val = t[1]\n",
        "model.evaluate(x_val,y_val, verbose=1)"
      ],
      "execution_count": null,
      "outputs": [
        {
          "output_type": "stream",
          "text": [
            "1/1 [==============================] - 1s 689ms/step - loss: 0.1219 - accuracy: 0.9448\n"
          ],
          "name": "stdout"
        },
        {
          "output_type": "execute_result",
          "data": {
            "text/plain": [
              "[0.1219320297241211, 0.9448013305664062]"
            ]
          },
          "metadata": {
            "tags": []
          },
          "execution_count": 7
        }
      ]
    },
    {
      "cell_type": "code",
      "metadata": {
        "id": "LWeXCGFQxmoo"
      },
      "source": [
        "def predGenerator(aug_dict, train_path, image1_folder, image2_folder, mask_folder, batch_size, save_to_dir, seed = 1, \n",
        "                   image1_save_prefix = \"image1\", image2_save_prefix = \"image2\", mask_save_prefix = \"mask\"):\n",
        "    image1_datagen = ImageDataGenerator(**aug_dict)\n",
        "    image2_datagen = ImageDataGenerator(**aug_dict)\n",
        "    mask_datagen = ImageDataGenerator(**aug_dict)\n",
        "    \n",
        "    image1_generator = image1_datagen.flow_from_directory(\n",
        "        directory = '/content/drive/MyDrive/Levir-CD/pred/A',\n",
        "        target_size = (512,512),\n",
        "        color_mode = 'rgb',\n",
        "        class_mode = None,\n",
        "        batch_size = batch_size,\n",
        "        save_to_dir = save_to_dir,\n",
        "        save_prefix = image1_save_prefix,\n",
        "        shuffle = True,\n",
        "        seed = seed\n",
        "    )\n",
        "    image2_generator = image2_datagen.flow_from_directory(\n",
        "        directory = '/content/drive/MyDrive/Levir-CD/pred/B',\n",
        "        target_size = (512,512),\n",
        "        color_mode = 'rgb',\n",
        "        class_mode = None,\n",
        "        batch_size = batch_size,\n",
        "        save_to_dir = save_to_dir,\n",
        "        save_prefix = image2_save_prefix,\n",
        "        shuffle = True,\n",
        "        seed = seed\n",
        "    )\n",
        "    mask_generator = mask_datagen.flow_from_directory(\n",
        "        directory = '/content/drive/MyDrive/Levir-CD/pred/label',\n",
        "        target_size = (512,512),\n",
        "        color_mode = 'grayscale',\n",
        "        class_mode = None,\n",
        "        batch_size = batch_size,\n",
        "        save_to_dir = save_to_dir,\n",
        "        save_prefix = mask_save_prefix,\n",
        "        shuffle = True,\n",
        "        seed = seed\n",
        "    )\n",
        "    train_generator = zip(image1_generator, image2_generator, mask_generator)\n",
        "    for (img1, img2, mask) in train_generator:\n",
        "          img1, img2, mask = adjustData(img1, img2, mask)\n",
        "          yield [img1, img2], mask\n"
      ],
      "execution_count": null,
      "outputs": []
    },
    {
      "cell_type": "code",
      "metadata": {
        "colab": {
          "base_uri": "https://localhost:8080/"
        },
        "id": "eOsKUdXnRoKL",
        "outputId": "67e61190-04ef-41b4-8eb5-fecb87661150"
      },
      "source": [
        "path_of_training = '/content/drive/MyDrive/Levir-CD/pred'\n",
        "data_gen_args = dict()\n",
        "pred= predGenerator(aug_dict=data_gen_args, train_path=path_of_training, image1_folder ='A', image2_folder='B', mask_folder='label', batch_size=1, save_to_dir= None)\n",
        "t = next(pred)\n",
        "X_train = t[0]\n",
        "Y_train = t[1]\n",
        "preds_train = model.predict(X_train, verbose=1)\n",
        "preds_val = model.predict(x_val, verbose=1)"
      ],
      "execution_count": null,
      "outputs": [
        {
          "output_type": "stream",
          "text": [
            "Found 1 images belonging to 1 classes.\n",
            "Found 1 images belonging to 1 classes.\n",
            "Found 1 images belonging to 1 classes.\n",
            "1/1 [==============================] - 1s 588ms/step\n",
            "1/1 [==============================] - 0s 95ms/step\n"
          ],
          "name": "stdout"
        }
      ]
    },
    {
      "cell_type": "code",
      "metadata": {
        "id": "bMOd20LeSYcA",
        "colab": {
          "base_uri": "https://localhost:8080/"
        },
        "outputId": "36e94ab0-1633-46d7-98a0-54c2498df3c9"
      },
      "source": [
        "from PIL import Image\n",
        "_,h, w, c = preds_train.shape\n",
        "preds_train = np.reshape(preds_train, (h, w, c))\n",
        "\n",
        "img = preds_train\n",
        "h, w, c = img.shape\n",
        "color_dict = {0: (0),\n",
        "              1: (255),\n",
        "              }\n",
        "# Generate one hot encoded array from predicted output.\n",
        "for i in range(h):\n",
        "    for j in range(w):\n",
        "        # Select the index of max value among the 9 classes.\n",
        "        argmax_index = np.argmax(img[i, j])\n",
        "        onehot_arr = np.zeros((2))\n",
        "        onehot_arr[argmax_index] = 1\n",
        "        img[i, j, :] = onehot_arr\n",
        "\n",
        "# Convert OneHotEncoded array to RGB.\n",
        "def onehot_to_rgb(onehot, color_dict):\n",
        "    print(onehot.shape)\n",
        "    single_layer = np.argmax(onehot, axis=-1)\n",
        "    output = np.zeros(onehot.shape[:2]+(3,) )\n",
        "    print(output.shape)\n",
        "    for k in color_dict.keys():\n",
        "        output[single_layer==k] = color_dict[k]\n",
        "    return np.uint8(output)\n",
        "  \n",
        "y_pred_img = onehot_to_rgb(img,color_dict)\n",
        "\n",
        "# Get the dimensions of the original image\n",
        "h, w = 1024,1024\n",
        "\n",
        "# Generate image and save it.\n",
        "y_pred_img = y_pred_img[:h, :w, :]\n",
        "imx = Image.fromarray(y_pred_img)\n",
        "# Set file path appropriately\n",
        "imx.save(\n",
        "    \"/content/\"+str(1) + \".jpg\")\n",
        "print(\"Saved...\")"
      ],
      "execution_count": null,
      "outputs": [
        {
          "output_type": "stream",
          "text": [
            "(512, 512, 2)\n",
            "(512, 512, 3)\n",
            "Saved...\n"
          ],
          "name": "stdout"
        }
      ]
    },
    {
      "cell_type": "code",
      "metadata": {
        "colab": {
          "base_uri": "https://localhost:8080/"
        },
        "id": "tjFbi3y11GaL",
        "outputId": "2184b3c0-b1d2-41fb-fc22-9332aa979d6c"
      },
      "source": [
        "preds_train_t = (preds_train >0.5).astype(np.uint8)\n",
        "preds_val_t = (preds_val >0.5).astype(np.uint8)\n",
        "print(preds_train_t.shape)"
      ],
      "execution_count": null,
      "outputs": [
        {
          "output_type": "stream",
          "text": [
            "(1, 256, 256, 2)\n"
          ],
          "name": "stdout"
        }
      ]
    },
    {
      "cell_type": "code",
      "metadata": {
        "id": "E82xTNdZ87Ea"
      },
      "source": [
        "color_dict = {0: 0,1: 255,}\n",
        "def onehot_to_rgb(onehot, color_dict):\n",
        "    single_layer = np.argmax(onehot, axis=-1)\n",
        "    output = np.zeros( onehot.shape[:3]+(3,) )\n",
        "    for k in color_dict.keys():\n",
        "        output[single_layer==k] = color_dict[k]\n",
        "    return output\n",
        "a = onehot_to_rgb(preds_train_t,color_dict)"
      ],
      "execution_count": null,
      "outputs": []
    },
    {
      "cell_type": "code",
      "metadata": {
        "id": "IAHslNvkyBPA"
      },
      "source": [
        ""
      ],
      "execution_count": null,
      "outputs": []
    }
  ]
}