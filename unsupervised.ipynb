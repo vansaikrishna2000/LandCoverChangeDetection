{
  "nbformat": 4,
  "nbformat_minor": 0,
  "metadata": {
    "colab": {
      "name": "unsupervised.ipynb",
      "provenance": []
    },
    "kernelspec": {
      "name": "python3",
      "display_name": "Python 3"
    },
    "language_info": {
      "name": "python"
    },
    "accelerator": "GPU"
  },
  "cells": [
    {
      "cell_type": "code",
      "metadata": {
        "id": "huXWPx4B6APE"
      },
      "source": [
        ""
      ],
      "execution_count": null,
      "outputs": []
    },
    {
      "cell_type": "code",
      "metadata": {
        "id": "TDoDBUgfednc",
        "colab": {
          "base_uri": "https://localhost:8080/"
        },
        "outputId": "6f73a364-3cfe-4ad2-f828-4a4a3c8a5df7"
      },
      "source": [
        "from google.colab import drive\n",
        "drive.mount('/content/drive',force_remount=True)"
      ],
      "execution_count": null,
      "outputs": [
        {
          "output_type": "stream",
          "text": [
            "Mounted at /content/drive\n"
          ],
          "name": "stdout"
        }
      ]
    },
    {
      "cell_type": "code",
      "metadata": {
        "id": "JAvZtpXg6157"
      },
      "source": [
        ""
      ],
      "execution_count": null,
      "outputs": []
    },
    {
      "cell_type": "code",
      "metadata": {
        "colab": {
          "base_uri": "https://localhost:8080/"
        },
        "id": "lcoj-4dS1MdT",
        "outputId": "c1d7b4aa-a1e7-4257-fb16-bb702a538169"
      },
      "source": [
        "!pip3 install scipy==1.2.0"
      ],
      "execution_count": null,
      "outputs": [
        {
          "output_type": "stream",
          "text": [
            "Collecting scipy==1.2.0\n",
            "  Downloading scipy-1.2.0-cp37-cp37m-manylinux1_x86_64.whl (26.6 MB)\n",
            "\u001b[K     |████████████████████████████████| 26.6 MB 66 kB/s \n",
            "\u001b[?25hRequirement already satisfied: numpy>=1.8.2 in /usr/local/lib/python3.7/dist-packages (from scipy==1.2.0) (1.19.5)\n",
            "Installing collected packages: scipy\n",
            "  Attempting uninstall: scipy\n",
            "    Found existing installation: scipy 1.4.1\n",
            "    Uninstalling scipy-1.4.1:\n",
            "      Successfully uninstalled scipy-1.4.1\n",
            "\u001b[31mERROR: pip's dependency resolver does not currently take into account all the packages that are installed. This behaviour is the source of the following dependency conflicts.\n",
            "albumentations 0.1.12 requires imgaug<0.2.7,>=0.2.5, but you have imgaug 0.2.9 which is incompatible.\u001b[0m\n",
            "Successfully installed scipy-1.2.0\n"
          ],
          "name": "stdout"
        }
      ]
    },
    {
      "cell_type": "code",
      "metadata": {
        "id": "USKNzCC47CPn"
      },
      "source": [
        "import cv2\n",
        "import numpy as np\n",
        "from sklearn.cluster import KMeans\n",
        "from sklearn.decomposition import PCA\n",
        "from collections import Counter\n",
        "from scipy.misc import imread, imresize, imsave"
      ],
      "execution_count": null,
      "outputs": []
    },
    {
      "cell_type": "code",
      "metadata": {
        "id": "28Xl1mPq7D49"
      },
      "source": [
        "def find_vector_set(diff_image, new_size):\n",
        "   \n",
        "    i = 0\n",
        "    j = 0\n",
        "    vector_set = np.zeros((int(new_size[0] * new_size[1] / 25), 25))\n",
        "\n",
        "    print('\\nvector_set shape',vector_set.shape)\n",
        "    \n",
        "    while i < vector_set.shape[0]:\n",
        "        while j < new_size[0]:\n",
        "            k = 0\n",
        "            while k < new_size[1]:\n",
        "                block   = diff_image[j:j+5, k:k+5]\n",
        "                #print(i,j,k,block.shape)\n",
        "                feature = block.ravel()\n",
        "                vector_set[i, :] = feature\n",
        "                k = k + 5\n",
        "            j = j + 5\n",
        "        i = i + 1\n",
        "        \n",
        "            \n",
        "    mean_vec   = np.mean(vector_set, axis = 0)    \n",
        "    vector_set = vector_set - mean_vec\n",
        "    \n",
        "    return vector_set, mean_vec"
      ],
      "execution_count": null,
      "outputs": []
    },
    {
      "cell_type": "code",
      "metadata": {
        "id": "lQMOeB4q7IKt"
      },
      "source": [
        "def find_FVS(EVS, diff_image, mean_vec, new):\n",
        "    \n",
        "    i = 2 \n",
        "    feature_vector_set = []\n",
        "    \n",
        "    while i < new[0] - 2:\n",
        "        j = 2\n",
        "        while j < new[1] - 2:\n",
        "            block = diff_image[i-2:i+3, j-2:j+3]\n",
        "            feature = block.flatten()\n",
        "            feature_vector_set.append(feature)\n",
        "            j = j+1\n",
        "        i = i+1\n",
        "        \n",
        "    FVS = np.dot(feature_vector_set, EVS)\n",
        "    FVS = FVS - mean_vec\n",
        "    print(\"\\nfeature vector space size\",FVS.shape)\n",
        "    return FVS"
      ],
      "execution_count": null,
      "outputs": []
    },
    {
      "cell_type": "code",
      "metadata": {
        "id": "Yvfm19x-7Nqz"
      },
      "source": [
        "def clustering(FVS, components, new):\n",
        "    \n",
        "    kmeans = KMeans(components, verbose = 0)\n",
        "    kmeans.fit(FVS)\n",
        "    output = kmeans.predict(FVS)\n",
        "    count  = Counter(output)\n",
        "\n",
        "    least_index = min(count, key = count.get)            \n",
        "    print(new[0],new[1])\n",
        "    change_map  = np.reshape(output,(new[0] - 4, new[1] - 4))\n",
        "    \n",
        "    return least_index, change_map"
      ],
      "execution_count": null,
      "outputs": []
    },
    {
      "cell_type": "code",
      "metadata": {
        "id": "d4_j6Lbr7U9O"
      },
      "source": [
        "def find_PCAKmeans(imagepath1, imagepath2):\n",
        "    \n",
        "    print('Operating')\n",
        "    \n",
        "    image1 = imread(imagepath1)\n",
        "    image2 = imread(imagepath2)\n",
        "    print(image1.shape,image2.shape) \n",
        "    new_size = np.asarray(image1.shape) / 5\n",
        "    new_size = new_size.astype(int) * 5\n",
        "    image1 = imresize(image1, (new_size)).astype(np.int16)\n",
        "    image2 = imresize(image2, (new_size)).astype(np.int16)\n",
        "    \n",
        "    diff_image = abs(image1 - image2)   \n",
        "    imsave('diffa.jpg', diff_image)\n",
        "    print('\\nBoth images resized to ',new_size)\n",
        "        \n",
        "    vector_set, mean_vec = find_vector_set(diff_image, new_size)\n",
        "    \n",
        "    pca     = PCA()\n",
        "    pca.fit(vector_set)\n",
        "    EVS = pca.components_\n",
        "        \n",
        "    FVS     = find_FVS(EVS, diff_image, mean_vec, new_size)\n",
        "    \n",
        "    print('\\ncomputing k means')\n",
        "    \n",
        "    components = 3\n",
        "    least_index, change_map = clustering(FVS, components, new_size)\n",
        "    \n",
        "    change_map[change_map == least_index] = 255\n",
        "    change_map[change_map != 255] = 0\n",
        "    \n",
        "    change_map = change_map.astype(np.uint8)\n",
        "    kernel     = np.asarray(((0,0,1,0,0),\n",
        "                             (0,1,1,1,0),\n",
        "                             (1,1,1,1,1),\n",
        "                             (0,1,1,1,0),\n",
        "                             (0,0,1,0,0)), dtype=np.uint8)\n",
        "    cleanChangeMap = cv2.erode(change_map,kernel)\n",
        "    imsave(\"changemapa.jpg\", change_map)\n",
        "    imsave(\"cleanchangemapa.jpg\", cleanChangeMap)\n"
      ],
      "execution_count": 16,
      "outputs": []
    },
    {
      "cell_type": "code",
      "metadata": {
        "id": "DMNTq3PB8Vx4",
        "colab": {
          "base_uri": "https://localhost:8080/"
        },
        "outputId": "3f89e349-b001-42ae-88d1-33a3dd76d2c2"
      },
      "source": [
        "a='/content/drive/MyDrive/unsupervised_images/a.jpg'\n",
        "b='/content/drive/MyDrive/unsupervised_images/b.jpg'\n",
        "find_PCAKmeans(a,b)   "
      ],
      "execution_count": 15,
      "outputs": [
        {
          "output_type": "stream",
          "text": [
            "Operating\n",
            "(1200, 1200) (1200, 1200)\n",
            "\n",
            "Both images resized to  [1200 1200]\n",
            "\n",
            "vector_set shape (57600, 25)\n"
          ],
          "name": "stdout"
        },
        {
          "output_type": "stream",
          "text": [
            "/usr/local/lib/python3.7/dist-packages/ipykernel_launcher.py:5: DeprecationWarning:     `imread` is deprecated!\n",
            "    `imread` is deprecated in SciPy 1.0.0, and will be removed in 1.2.0.\n",
            "    Use ``imageio.imread`` instead.\n",
            "  \"\"\"\n",
            "/usr/local/lib/python3.7/dist-packages/ipykernel_launcher.py:6: DeprecationWarning:     `imread` is deprecated!\n",
            "    `imread` is deprecated in SciPy 1.0.0, and will be removed in 1.2.0.\n",
            "    Use ``imageio.imread`` instead.\n",
            "  \n",
            "/usr/local/lib/python3.7/dist-packages/ipykernel_launcher.py:10: DeprecationWarning:     `imresize` is deprecated!\n",
            "    `imresize` is deprecated in SciPy 1.0.0, and will be removed in 1.3.0.\n",
            "    Use Pillow instead: ``numpy.array(Image.fromarray(arr).resize())``.\n",
            "  # Remove the CWD from sys.path while we load stuff.\n",
            "/usr/local/lib/python3.7/dist-packages/ipykernel_launcher.py:11: DeprecationWarning:     `imresize` is deprecated!\n",
            "    `imresize` is deprecated in SciPy 1.0.0, and will be removed in 1.3.0.\n",
            "    Use Pillow instead: ``numpy.array(Image.fromarray(arr).resize())``.\n",
            "  # This is added back by InteractiveShellApp.init_path()\n",
            "/usr/local/lib/python3.7/dist-packages/ipykernel_launcher.py:14: DeprecationWarning:     `imsave` is deprecated!\n",
            "    `imsave` is deprecated in SciPy 1.0.0, and will be removed in 1.2.0.\n",
            "    Use ``imageio.imwrite`` instead.\n",
            "  \n"
          ],
          "name": "stderr"
        },
        {
          "output_type": "stream",
          "text": [
            "\n",
            "feature vector space size (1430416, 25)\n",
            "\n",
            "computing k means\n",
            "1200 1200\n"
          ],
          "name": "stdout"
        },
        {
          "output_type": "stream",
          "text": [
            "/usr/local/lib/python3.7/dist-packages/ipykernel_launcher.py:40: DeprecationWarning:     `imsave` is deprecated!\n",
            "    `imsave` is deprecated in SciPy 1.0.0, and will be removed in 1.2.0.\n",
            "    Use ``imageio.imwrite`` instead.\n",
            "/usr/local/lib/python3.7/dist-packages/ipykernel_launcher.py:41: DeprecationWarning:     `imsave` is deprecated!\n",
            "    `imsave` is deprecated in SciPy 1.0.0, and will be removed in 1.2.0.\n",
            "    Use ``imageio.imwrite`` instead.\n"
          ],
          "name": "stderr"
        }
      ]
    }
  ]
}